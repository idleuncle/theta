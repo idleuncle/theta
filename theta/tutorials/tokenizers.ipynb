{
 "cells": [
  {
   "cell_type": "markdown",
   "metadata": {},
   "source": [
    "# Theta Tokenizers Toturials"
   ]
  },
  {
   "cell_type": "code",
   "execution_count": 1,
   "metadata": {},
   "outputs": [],
   "source": [
    "import sys\n",
    "sys.path.append('../..')"
   ]
  },
  {
   "cell_type": "code",
   "execution_count": 2,
   "metadata": {},
   "outputs": [],
   "source": [
    "vocab_file = \"/opt/share/pretrained/pytorch/bert-base-chinese/vocab.txt\"\n",
    "from theta.tokenizers import HFTokenizer\n",
    "tokenizer = HFTokenizer(vocab_file)"
   ]
  },
  {
   "cell_type": "code",
   "execution_count": 3,
   "metadata": {},
   "outputs": [],
   "source": [
    "text = \"中国的英文是china，成立于1949年。\"\n",
    "encodes = tokenizer.encode(text)"
   ]
  },
  {
   "cell_type": "code",
   "execution_count": 4,
   "metadata": {},
   "outputs": [
    {
     "data": {
      "text/plain": [
       "{'tokens': ['[CLS]',\n",
       "  '中',\n",
       "  '国',\n",
       "  '的',\n",
       "  '英',\n",
       "  '文',\n",
       "  '是',\n",
       "  'china',\n",
       "  '，',\n",
       "  '成',\n",
       "  '立',\n",
       "  '于',\n",
       "  '1949',\n",
       "  '年',\n",
       "  '。',\n",
       "  '[SEP]'],\n",
       " 'offsets': [(0, 0),\n",
       "  (0, 1),\n",
       "  (1, 2),\n",
       "  (2, 3),\n",
       "  (3, 4),\n",
       "  (4, 5),\n",
       "  (5, 6),\n",
       "  (6, 11),\n",
       "  (11, 12),\n",
       "  (12, 13),\n",
       "  (13, 14),\n",
       "  (14, 15),\n",
       "  (15, 19),\n",
       "  (19, 20),\n",
       "  (20, 21),\n",
       "  (0, 0)],\n",
       " 'token2char': [-1, 0, 1, 2, 3, 4, 5, 6, 11, 12, 13, 14, 15, 19, 20, -1],\n",
       " 'char2token': [1,\n",
       "  2,\n",
       "  3,\n",
       "  4,\n",
       "  5,\n",
       "  6,\n",
       "  7,\n",
       "  7,\n",
       "  7,\n",
       "  7,\n",
       "  7,\n",
       "  8,\n",
       "  9,\n",
       "  10,\n",
       "  11,\n",
       "  12,\n",
       "  12,\n",
       "  12,\n",
       "  12,\n",
       "  13,\n",
       "  14],\n",
       " 'ids': [101,\n",
       "  704,\n",
       "  1744,\n",
       "  4638,\n",
       "  5739,\n",
       "  3152,\n",
       "  3221,\n",
       "  8873,\n",
       "  8024,\n",
       "  2768,\n",
       "  4989,\n",
       "  754,\n",
       "  8594,\n",
       "  2399,\n",
       "  511,\n",
       "  102],\n",
       " 'attention_mask': [1, 1, 1, 1, 1, 1, 1, 1, 1, 1, 1, 1, 1, 1, 1, 1],\n",
       " 'type_ids': [0, 0, 0, 0, 0, 0, 0, 0, 0, 0, 0, 0, 0, 0, 0, 0]}"
      ]
     },
     "execution_count": 4,
     "metadata": {},
     "output_type": "execute_result"
    }
   ],
   "source": [
    "encodes"
   ]
  },
  {
   "cell_type": "code",
   "execution_count": null,
   "metadata": {},
   "outputs": [],
   "source": []
  }
 ],
 "metadata": {
  "kernelspec": {
   "display_name": "Python 3",
   "language": "python",
   "name": "python3"
  },
  "language_info": {
   "codemirror_mode": {
    "name": "ipython",
    "version": 3
   },
   "file_extension": ".py",
   "mimetype": "text/x-python",
   "name": "python",
   "nbconvert_exporter": "python",
   "pygments_lexer": "ipython3",
   "version": "3.7.9"
  }
 },
 "nbformat": 4,
 "nbformat_minor": 4
}
